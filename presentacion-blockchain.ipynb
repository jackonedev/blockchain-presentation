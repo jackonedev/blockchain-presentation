{
 "cells": [
  {
   "cell_type": "raw",
   "metadata": {},
   "source": [
    "---\n",
    "title: Entrevista Nexo Soluciones\n",
    "author: Agustin Stigliano\n",
    "description: Presentacion Blockchain\n",
    "output: slides\n",
    "---"
   ]
  },
  {
   "cell_type": "markdown",
   "metadata": {
    "slideshow": {
     "slide_type": "slide"
    }
   },
   "source": [
    "<div>\n",
    "    <center>\n",
    "        <h1>Presentacion Blockchain</h1>\n",
    "    </center>\n",
    "    <br />\n",
    "    <p>\n",
    "        <i>Notas: masterclass dictada por Kinetic\n",
    "        <br />\n",
    "        Fecha: martes 8 de Noviembre</i>\n",
    "    </p>\n",
    "    <center>\n",
    "    <img src=\"https://img.freepik.com/vector-gratis/cohete-volando-luna-dibujos-animados-vector-icono-ilustracion-tecnologia-transporte-icono-aislado_138676-5157.jpg?w=2000\" alt=\"cohete\" width=\"300\"/>\n",
    "    </center>\n",
    "</div>"
   ]
  },
  {
   "cell_type": "markdown",
   "metadata": {
    "slideshow": {
     "slide_type": "subslide"
    }
   },
   "source": [
    "<div>\n",
    "    <b><u>TEMAS VISTOS</u>:</b>\n",
    "    <br />\n",
    "    <ul>\n",
    "        <li>Blockchain</li>\n",
    "        <li>Hashing</li>\n",
    "        <li>Bloques</li>\n",
    "        <li>Transacciones</li>\n",
    "        <li>Direcciones (addresses)</li>\n",
    "        <li>Criptografía</li>\n",
    "        <li>Consenso</li>\n",
    "        <li>Minado</li>\n",
    "        <li>Ejemplos de aplicación</li>\n",
    "    </ul>\n",
    "</div>"
   ]
  },
  {
   "cell_type": "markdown",
   "metadata": {
    "slideshow": {
     "slide_type": "slide"
    }
   },
   "source": [
    "<div>\n",
    "    <h2>Panorama actual</h2>\n",
    "    <br />\n",
    "    <p>\n",
    "        Cada día se pronuncia más la tendencia a transaccionar con tecnología.\n",
    "        <br /><br />\n",
    "        A través de las redes blockchain esta tendencia se está empezando a desarrollar cada vez con más vigor, gracias a la confiabilidad que aporta.\n",
    "        <br /><br />\n",
    "        Estas redes funcionan a través de acuerdos matemáticos, son infalibles a la manipulación por parte del humano de forma errónea o malintencionada.\n",
    "    </p>\n",
    "</div>"
   ]
  },
  {
   "cell_type": "markdown",
   "metadata": {
    "slideshow": {
     "slide_type": "subslide"
    }
   },
   "source": [
    "<div>\n",
    "    <b><u>LA TENDENCIA ES A REALIZAR TRANSACCIONES</u>:</b>\n",
    "    <br/>\n",
    "    <ul>\n",
    "        <li>Hiper-seguras</li>\n",
    "        <li>Hiper-verificadas</li>\n",
    "        <li>Rápidas y casi de valor nulo</li>\n",
    "    </ul>\n",
    "</div>"
   ]
  },
  {
   "cell_type": "markdown",
   "metadata": {
    "slideshow": {
     "slide_type": "slide"
    }
   },
   "source": [
    "<div>\n",
    "    <h2>Tipos de redes blockchain</h2>\n",
    "    <br />\n",
    "    <ul>\n",
    "        <li>redes públicas (bitcoin, ethereum, ...)</li>\n",
    "        <li>redes privadas</li>\n",
    "        <li>redes híbridas</li>\n",
    "    </ul>\n",
    "</div>"
   ]
  },
  {
   "cell_type": "markdown",
   "metadata": {
    "slideshow": {
     "slide_type": "subslide"
    }
   },
   "source": [
    "<div>\n",
    "    <h2>redes privadas </h2>\n",
    "    <p><i>(construcción de redes)</i></p>\n",
    "    <br />\n",
    "    <p>\n",
    "        Los nodos son agentes dentro de la red descentralizada, que se ocupan de aplicar el algoritmo de consenso y evaluar los resultados, de esa forma verifican transacciones y validan bloques.\n",
    "        <br /><br />\n",
    "        Una empresa puede tener una red privada donde cada una de sus sucursales sea un nodo, y de esa manera vincular las transacciones hacia una base de datos descentralizada.\n",
    "    </p>\n",
    "</div>"
   ]
  },
  {
   "cell_type": "markdown",
   "metadata": {
    "slideshow": {
     "slide_type": "subslide"
    }
   },
   "source": [
    "<div>\n",
    "    <h2>redes híbridas</h2>\n",
    "    <p><i>(construcción de redes)</i></p>\n",
    "    <br />\n",
    "    <p>Una gran empresa podría tener una red privada para sí, pero dar acceso extrerno a proveedores para que coloquen las órdenes de entrega dentro de la red.</p>\n",
    "</div>"
   ]
  },
  {
   "cell_type": "markdown",
   "metadata": {
    "slideshow": {
     "slide_type": "subslide"
    }
   },
   "source": [
    "<div>\n",
    "    <h2>redes públicas</h2>\n",
    "    <p><i>(Desarrollo de Smart Contracts - Web3)</i></p>\n",
    "    <p>\n",
    "        <b>1) Bitcoin</b>\n",
    "        <br />\n",
    "        Medio de intercambio electrónico, sirve para adquirir productos y servicios\n",
    "        <br /><br />\n",
    "        <b>2) Ethereum</b>\n",
    "        <br />\n",
    "        Código abierto y programable, sirve como base para crear d-apps y tokens\n",
    "        <br /><br />\n",
    "        <b>3) Ripple</b>\n",
    "        <br />\n",
    "        Desarrollo de un sistema de crédito basado en el paradigma P2P\n",
    "    </p>\n",
    "</div>"
   ]
  },
  {
   "cell_type": "markdown",
   "metadata": {
    "slideshow": {
     "slide_type": "subslide"
    }
   },
   "source": [
    "<div>\n",
    "    <h2>redes públicas</h2>\n",
    "    <p><i>(Desarrollo de Smart Contracts - Web3)</i></p>\n",
    "    <p>\n",
    "        <b>4) Litecoin</b>\n",
    "        <br />\n",
    "        Protocolo idéntico a Bitcoin pero bajo licencia de MIT\n",
    "        <br /><br />\n",
    "        <b>5) Neo</b>\n",
    "        <br />\n",
    "        Protocolo similar a Ethereum, originado en China, con procesamiento optimizado\n",
    "        <br /><br />\n",
    "        <b>6) Eos</b>\n",
    "        <br />\n",
    "        Ejecución de contratos inteligentes, pretende eliminar las tarifas de transacciones\n",
    "    </p>\n",
    "</div>"
   ]
  },
  {
   "cell_type": "markdown",
   "metadata": {
    "slideshow": {
     "slide_type": "subslide"
    }
   },
   "source": [
    "<div>\n",
    "    <h2>redes públicas</h2>\n",
    "    <p><i>(Desarrollo de Smart Contracts - Web3)</i></p>\n",
    "    <p>\n",
    "        <b>7) Iota</b>\n",
    "        <br />\n",
    "        Intercambio seguro de información de valor en el internet de las cosas (IOT)\n",
    "        <br /><br />\n",
    "        <b>8) Corda</b>\n",
    "        <br />\n",
    "        Orientado a servicios y transacciones en el sector financiero\n",
    "        <br /><br />\n",
    "        <b>9) Quorum</b>\n",
    "        <br />\n",
    "        Iniciativa de J.P. Morgan, especializada en transacciones empresariales\n",
    "        <br /><br />\n",
    "        <b>10) Hyperledger</b>\n",
    "        <br />\n",
    "        Iniciativa de IBM de implementación plug-and-play de tecnología blockchain\n",
    "    </p>\n",
    "</div>"
   ]
  },
  {
   "cell_type": "markdown",
   "metadata": {
    "slideshow": {
     "slide_type": "slide"
    }
   },
   "source": [
    "<div>\n",
    "    <h2>Introduccion a las blockchain</h2>\n",
    "    <br />\n",
    "    <p>\n",
    "        El término blockchain fue implementado en un paper académico en 1991 por Stornetta y Stewart.\n",
    "        <br /><br />\n",
    "        Satoshi Nakamoto implementó la tecnología blockchain junto con el concepto de Hashing, para crear Bitcoin en 2009.\n",
    "        <br /><br />\n",
    "        El concepto de hash nace en la época de los 70's en el campo militar. Hash es una función criptográfica, que para cualquier entrada de texto, devuelve siempre una cadena de caracteres de igual longitud.\n",
    "    </p>\n",
    "</div>"
   ]
  },
  {
   "cell_type": "markdown",
   "metadata": {
    "slideshow": {
     "slide_type": "slide"
    }
   },
   "source": [
    "<div>\n",
    "    <h2>Contexto actual de las blockchain 🚀</h2>\n",
    "    <br />\n",
    "    <p>\n",
    "        Las transacciones son un tipo de método que le podes solicitar a la red (como \"GET\" o \"POST\"), éstas transacciones no solo sirven para intercambiar activos, sino para todo tipo de contratos.\n",
    "        <br/><br />\n",
    "        En el campo de la salud, aseguradoras, cadena de suministros, energía, bienes raíces, comercio, internet de las cosas, gobernanza, y turismo ya son industrias que están implementando tecnologías blockhain dentro de sus procesos.\n",
    "    </p>\n",
    "</div>"
   ]
  },
  {
   "cell_type": "markdown",
   "metadata": {
    "slideshow": {
     "slide_type": "subslide"
    }
   },
   "source": [
    "<p>\n",
    "    Al utilizar redes públicas, uno tiene acceso a las bases de datos descentralizadas, y puede desarrollar dapps o daos:\n",
    "    <br /><br />\n",
    "    <b>dapps</b>: Aplicaciones descentralizadas\n",
    "    <br />\n",
    "    <b>daos</b>: Organización autónoma descentralizada\n",
    "    <br /><br />\n",
    "    Las aplicaciones en la Web3 permiten a los usuarios conectarse a través de sus billeteras, y los oráculos permiten conectar la Web3 con la Web2 (IoT).\n",
    "</p>"
   ]
  },
  {
   "cell_type": "markdown",
   "metadata": {
    "slideshow": {
     "slide_type": "slide"
    }
   },
   "source": [
    "<div>\n",
    "    <h2>Aplicaciones en la actualidad</h2>\n",
    "    <h3>Finanzas y bancarias:<br />Barclay's (Crowd Machine)</h3>\n",
    "</div>"
   ]
  },
  {
   "cell_type": "markdown",
   "metadata": {
    "slideshow": {
     "slide_type": "subslide"
    }
   },
   "source": [
    "<p>\n",
    "    El banco Barclay's ofrece 5,5 millones de dólares en apoyo a Crowdz, una puesta en marcha de blockchain para la financiación del comercio.\n",
    "    <br /><br />\n",
    "    Utilizando \"intercambio de facturas\" basados en blockchain, Crowdz busca transformar el sistema de pagos con un énfasis en el <b>mercado global de cuentas por cobrar</b> de $ 9 billones. El servicio ayuda a las empresas a digitalizar facturas sin problemas y acelerar la cobranza de pagos.\n",
    "    <br /><br />\n",
    "    De esta manera, las empresas tienen acceso al flujo de caja que necesitan para prosperar y expandirse. Las pequeñas y medianas empresas a las que se destina esta solución repesentan el 75% del intercambio B2B global y son las que más requieren soporte de facturas.\n",
    "</p>"
   ]
  },
  {
   "cell_type": "markdown",
   "metadata": {
    "slideshow": {
     "slide_type": "slide"
    }
   },
   "source": [
    "<div>\n",
    "    <h2>Aplicaciones en la actualidad</h2>\n",
    "    <h3>Petróleo:<br />Adnoc</h3>\n",
    "</div>"
   ]
  },
  {
   "cell_type": "markdown",
   "metadata": {
    "slideshow": {
     "slide_type": "subslide"
    }
   },
   "source": [
    "<p>\n",
    "    Abu Dhabi National Oil Company (ADNOC) con IBM pusieron a prueba un sistema automatizado basado en Blockchain para integrar la producción del petróleo y gas en toda la cadena de valor.\n",
    "    <br /><br />\n",
    "    El proyecto <b>reducirá el tiempo necesario para ejecutar transacciones</b> entre las empresas operativas de ADNOC y <b>aumetará significativamente la eficiencia operativa</b> en toda su cadena de valor.\n",
    "    <br /><br />\n",
    "    La aplicación Blockchain eventualmente se vinculará con clientes e inversores, proporcionando una integración perfecta entre las partes interesadas.\n",
    "</p>"
   ]
  },
  {
   "cell_type": "markdown",
   "metadata": {
    "slideshow": {
     "slide_type": "slide"
    }
   },
   "source": [
    "<div>\n",
    "    <h2>Aplicaciones en la actualidad</h2>\n",
    "    <h3>Sistemas para votación:<br />Voatz, Votem</h3>\n",
    "</div>"
   ]
  },
  {
   "cell_type": "markdown",
   "metadata": {
    "slideshow": {
     "slide_type": "subslide"
    }
   },
   "source": [
    "Para llevar a cabo la votación correctamente, las personas responsables deben asegurarse de que los siguientes componentes estén disponibles: autenticación de identidad precisa, monitoreo seguro de los votos y contrapartes confiables para estimar los votos.\n",
    "<br /><br />\n",
    "Durantes las elecciones, los dispositivos y plataformas Blockchain pueden servir como una infraestructura subyacente para el seguimiento y recuento de votos. De esta manera, <b>los gobiernes pueden evitar la necesidad del recuento de votos y disuadir el fraude electoral, como votantes falsos y votos fraudulentos.</b>\n",
    "<br /><br />\n",
    "Los gobiernos y los votantes pueden verificar el almacenamiento de registros de votos rastreando las boletas en la cadena de bloques, evitando errores humanos y voces corrompidas por prácticas sociales falsas.\n",
    "<br /><br />\n",
    "<b>Estas plataformas también se aplican a eventos personalizado y votaciones en convenciones, tanto de clientes privados como del sector público, gubernamental y militar.</b>"
   ]
  },
  {
   "cell_type": "markdown",
   "metadata": {
    "slideshow": {
     "slide_type": "slide"
    }
   },
   "source": [
    "<div>\n",
    "    <h2>Aplicaciones en la actualidad</h2>\n",
    "    <h3>Alimentos:<br />IBM Food Trust, Walmart Blockchain Tracking</h3>\n",
    "</div>"
   ]
  },
  {
   "cell_type": "markdown",
   "metadata": {
    "slideshow": {
     "slide_type": "subslide"
    }
   },
   "source": [
    "<p>\n",
    "    La industria alimentaria enfrenta varios problemas como: rastreo ineficaz de productos contaminados y enfermos, fraudes y escándalos, medios de pago fallidos.\n",
    "    <br /><br />\n",
    "    <b>Transparencia y apertura</b>: no deja lugar para esfuerzos disruptivos en explotar delictivamente la cadena de suministro de alimentos debido a la existencia de la cadena de bloques empresarial.\n",
    "    <br /><br />\n",
    "    <b>Mejor capacidad de rastreo</b>: la capacidad de monitorear y mostrar adecuadamente el estado de los productos alimenticios es una de las ventajas de integrar Blockchain a la seguridad alimentaria. Los minoristas pueden localizar y retirar productos dañados fácilmente, ahorrando gastos generalmente en retiros totales.\n",
    "    <br /><br />\n",
    "    <b>Prevención de pérdidas o enfermedades y/o fraudes</b>: el uso de Blockchain ayudará potencialmente a prevenir los daños generados por el consumo de contaminantes y/o alimentos contaminados.\n",
    "</p>"
   ]
  },
  {
   "cell_type": "markdown",
   "metadata": {
    "slideshow": {
     "slide_type": "slide"
    }
   },
   "source": [
    "<h2>Empresas que ya implementan Blockchain</h2>"
   ]
  },
  {
   "cell_type": "markdown",
   "metadata": {
    "slideshow": {
     "slide_type": "subslide"
    }
   },
   "source": [
    "<center>\n",
    "    <img src=\"https://user-images.githubusercontent.com/95892143/200911789-b552647e-cec1-438e-af3d-8a06921e354d.jpg\" alt=\"empresas\" width=\"800\"/>\n",
    "</center>"
   ]
  },
  {
   "cell_type": "markdown",
   "metadata": {
    "slideshow": {
     "slide_type": "slide"
    }
   },
   "source": [
    "<h1>Muchas Gracias</h1>"
   ]
  },
  {
   "cell_type": "markdown",
   "metadata": {},
   "source": []
  }
 ],
 "metadata": {
  "language_info": {
   "name": "python"
  },
  "orig_nbformat": 4
 },
 "nbformat": 4,
 "nbformat_minor": 2
}
